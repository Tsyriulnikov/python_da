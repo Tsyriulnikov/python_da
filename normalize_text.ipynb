{
 "cells": [
  {
   "cell_type": "code",
   "execution_count": 5,
   "metadata": {},
   "outputs": [
    {
     "name": "stdout",
     "output_type": "stream",
     "text": [
      "OrderedDict([('language_code', 'ru'), ('format_version', '2.4'), ('pymorphy2_version', '0.9.1'), ('compiled_at', '2020-10-11T15:05:51.070345'), ('source', 'opencorpora.org'), ('source_version', '0.92'), ('source_revision', '417127'), ('source_lexemes_count', 391764), ('source_links_count', 258604), ('gramtab_length', 5532), ('gramtab_formats', {'opencorpora-ext': 'gramtab-opencorpora-ext.json', 'opencorpora-int': 'gramtab-opencorpora-int.json'}), ('paradigms_length', 3456), ('suffixes_length', 16311), ('words_dawg_length', 5140055), ('compile_options', {'min_ending_freq': 2, 'min_paradigm_popularity': 3, 'max_suffix_length': 5, 'paradigm_prefixes': ['', 'по', 'наи']}), ('prediction_suffixes_dawg_lengths', [375311, 1882, 21]), ('P(t|w)', True), ('P(t|w)_unique_words', 45458), ('P(t|w)_outcomes', 518189), ('P(t|w)_min_word_freq', 1), ('corpus_revision', '4579844')])\n"
     ]
    }
   ],
   "source": [
    "import pymorphy2\n",
    "morph = pymorphy2.MorphAnalyzer()"
   ]
  }
 ],
 "metadata": {
  "kernelspec": {
   "display_name": "Python 3",
   "language": "python",
   "name": "python3"
  },
  "language_info": {
   "codemirror_mode": {
    "name": "ipython",
    "version": 3
   },
   "file_extension": ".py",
   "mimetype": "text/x-python",
   "name": "python",
   "nbconvert_exporter": "python",
   "pygments_lexer": "ipython3",
   "version": "3.10.7"
  },
  "orig_nbformat": 4
 },
 "nbformat": 4,
 "nbformat_minor": 2
}
